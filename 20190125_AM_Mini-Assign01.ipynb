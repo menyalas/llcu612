{
 "cells": [
  {
   "cell_type": "markdown",
   "metadata": {},
   "source": [
    "<center><h2>Assignment 1, Alayne Moody, LLCU 612</h2><center>"
   ]
  },
  {
   "cell_type": "markdown",
   "metadata": {},
   "source": [
    "<h3> Headlines from Fox News</h3>"
   ]
  },
  {
   "cell_type": "code",
   "execution_count": 1,
   "metadata": {},
   "outputs": [],
   "source": [
    "import urllib.request\n",
    "response = urllib.request.urlopen('https://www.foxnews.com/')\n",
    "html = response.read()"
   ]
  },
  {
   "cell_type": "code",
   "execution_count": 2,
   "metadata": {},
   "outputs": [],
   "source": [
    "from bs4 import BeautifulSoup\n",
    "soup = BeautifulSoup(html, 'html.parser')"
   ]
  },
  {
   "cell_type": "code",
   "execution_count": 3,
   "metadata": {},
   "outputs": [
    {
     "name": "stdout",
     "output_type": "stream",
     "text": [
      "Fox News Headlines:\n"
     ]
    },
    {
     "data": {
      "text/plain": [
       "{'2020 Toyota Tacoma to be revealed at Chicago Auto Show',\n",
       " '2020 hopeful Harris under fire after calling for end to all private health insurance',\n",
       " '20th Century FOX saddened and outraged after attack on Empire star Jussie Smollett',\n",
       " '911 dispatcher helps student with homework',\n",
       " 'AOC slams Amazon for bias',\n",
       " 'Actor John Fugelsang condemns Christian Trump supporters as illiterate about Jesus teachings',\n",
       " 'Airline passenger snaps phone in half, forces emergency landing',\n",
       " 'Alaska fisherman attacked by sea lion, nearly dragged into water',\n",
       " 'Americans in these cities having hardest time repaying student loan debt',\n",
       " 'Apple to patch FaceTime privacy bug',\n",
       " 'Are Tim Tebow and Demi-Leigh Nel-Peters really ready for marriage? Here are 6 questions I ask every couple',\n",
       " 'Army vets Trump T-shirt made fellow gym patrons feel uncomfortable, report says',\n",
       " 'Artist’s American flag wall made from 7,700 pennies',\n",
       " 'Australian woman bitten by 5-foot snake while on the toilet',\n",
       " 'Authorities concerned for homeless populations as life-threatening cold air hits Midwest',\n",
       " 'Best Buy offers to rehire security guard who tackled suspect',\n",
       " 'Bigorexia: When bodybuilding goes too far',\n",
       " 'Border Patrol agent working without pay pulls suicidal man off bridge',\n",
       " 'Boston Celtics Kyrie Irving to star in movie about haunted Oklahoma City hotel',\n",
       " 'Bow hunters deer of a lifetime sets new world record',\n",
       " 'Bridal partys power pose showing off pockets goes viral',\n",
       " 'Buying a home? Watch out for these 7 red flags in the neighborhood',\n",
       " 'Canadian study links screen time to slower child development',\n",
       " 'Carly Pearce fires back at body-shamer on social media: Think before you speak',\n",
       " 'Carrie Underwood, Mike Fisher welcome baby boy: Our hearts are full',\n",
       " 'Catwalkers who promoted disastrous Fyre Festival summoned to court',\n",
       " 'Chevy is giving the people what they want: A Camaro ZL1 1LE with an automatic',\n",
       " 'Chicago man trying to save dog from frigid Lake Michigan falls in, rescued by police human chain',\n",
       " 'Chick-fil-A serving chicken in heart-shaped trays for Valentines Day',\n",
       " 'China blasts US over indictments, unreasonable crackdown on Huawei',\n",
       " 'China blasts US over indictments, unreasonable crackdown on tech giant',\n",
       " 'Chris Christie brushes off criticism that new book’s revelations betray Trump’s trust',\n",
       " 'College trustees ditch Pledge of Allegiance over its history of white nationalism',\n",
       " 'Could China leave the US behind in AI arms race?',\n",
       " 'Country singer Russell Dickerson on God moment filming music video with wife that sparked his career',\n",
       " 'Cuba opens first church since start of communist rule with aid from Florida congregation',\n",
       " 'Cure for cancer? Israeli scientists claim to be on brink of development',\n",
       " 'Da Vincis thumbprint discovered in drawing owned by Queen Elizabeth',\n",
       " 'David Webb takes on the fake news media',\n",
       " 'Dems enforce their own progressive walls, shift radically left',\n",
       " 'Dems to strike so help me God from oath taken in front of key House committee, draft shows',\n",
       " 'Disney actress ignores trolls after sharing sexy bikini selfie',\n",
       " 'Disney restaurant worker diagnosed with hepatitis A',\n",
       " 'Disney star Dove Cameron defends sexy bikini selfie: I love the female body',\n",
       " 'Disneyland’s new ‘Star Wars’ Ride may be 28 minutes long',\n",
       " 'Dr Robert Jeffress: Life’s most important choice is forgiveness',\n",
       " 'Empire actor Jussie Smollett hospitalized after attack; police investigating as possible hate crime',\n",
       " 'Empire cast member’s brutal beating probed as possible hate crime',\n",
       " 'Ex-NFL great Clinton Portis took shot of Hennessy before games, used it to cope with pain',\n",
       " 'Experts weigh in on celery juice diet craze: ‘It’s an elaborate lie’',\n",
       " 'FBI closes Vegas mass murder case, drawing no firm conclusions on motive',\n",
       " 'FBI finds no clear motive for Las Vegas shooting',\n",
       " 'Fashion site seeks to scout and hire top sneakerheads with tricky quiz',\n",
       " 'Fernando Alonso turns focus to Indy 500, final leg of racings Triple Crown',\n",
       " 'Flake will not challenge Trump in a 2020 Republican primary; joins CBS as contributor',\n",
       " 'Flipped-over American flag set right after sharp-eyed Missouri cop, an Air Force vet, gets firefighters help',\n",
       " 'Florida thief threatens woman with knife, climbs through window into her car, makes off with $1: cops',\n",
       " 'Foreclosed home of late MLB great Tony Gwynn has squatter living inside: report',\n",
       " 'Fox News @ Night – Monday, January 28',\n",
       " 'Fox News Channel marks milestone as top cable news network for 17 consecutive years',\n",
       " 'Freak snowboarding accident left woman with torn pancreas, large scar',\n",
       " 'Funeral for Vietnam War vet, 77, who died alone, draws hundreds of mourners',\n",
       " 'GOP rep labels Kamala Harris health care for all proposal insane',\n",
       " 'GRAPHIC VIDEO: Alabama hunter fires 2 rounds at buck just yards away from fishermen',\n",
       " 'George Washingtons illustrious hair goes up for auction',\n",
       " 'Gwyneth Paltrow sued by Utah man over alleged hit-and-run ski crash',\n",
       " 'Gwyneth Paltrows rep slams lawsuit by Utah man over alleged hit-and-run ski crash',\n",
       " 'Hannity – Monday, January 28',\n",
       " 'Hawaii farmers 6-pound, 11-ounce avocado may break world record – if its lasts long enough for authentication',\n",
       " 'High school temporarily closes after shocking infestation',\n",
       " 'Homes in Sicily are selling for $1',\n",
       " 'Houston Police Officers Union president has strong warning for dirtbags trying to take our lives following shooting; suspects named',\n",
       " 'Houston police union president gives warning after shooting; suspects named',\n",
       " 'How Al Gore-ism stuck a Texas town with massive power bills',\n",
       " 'How Elizabeth Warrens ultra-millionaire tax would affect the wealthy',\n",
       " 'Howard Schultz slams Trump: Twitter attacks a sign of weakness, insecurity',\n",
       " 'Howard Schultz, 2020 hopeful, gave less than 1% of fortune to charity, tax records reveal',\n",
       " 'Howard Schultzs progressive policies at Starbucks a mixed bag for Democrats',\n",
       " 'ICE nabs dozens of illegal immigrants, some with sex crime convictions',\n",
       " 'ICE nabs dozens of illegal immigrants, some with sex crime convictions, in New York',\n",
       " 'ISIS recruitment drive could be massive threat to US presence',\n",
       " 'ISIS recruitment drive in Somalia could prove massive threat to the US presence in the region',\n",
       " 'Indiana dispatcher helps boy who called 911 with fractions homework',\n",
       " 'Infestation of 600 bats at Louisiana high school causes temporary closure, officials say',\n",
       " 'Israeli scientists claim to be on the brink of dramatic breakthrough',\n",
       " 'Its Blue Monday -- How can we keep our kids from feeling hopeless today and all year long?',\n",
       " 'January tax checklist for small business',\n",
       " 'Jarrid Wilson: God has a purpose for your pain',\n",
       " 'Jarring Roger Stone raid shows CNN is Mueller’s PR team',\n",
       " 'Jillian Michaels calls out Andy Cohen, Al Roker over keto diet feud: Why dont we behave like adults',\n",
       " 'Jillian Michaels slams the keto diet: Bad plan for a million reasons',\n",
       " 'Johnny Cashs former Tennessee property selling for $395 million',\n",
       " 'Johnny Cashs former property selling for $395 million',\n",
       " 'Kamala Harris takes heat after saying shes open to eliminating private health insurance',\n",
       " 'Kamala Harris under fire after calling for abolition of private health care plans: ‘That’s not American’',\n",
       " 'Laura Ingraham: Democrats eat their own, enforce their own progressive walls, as they shift radically left',\n",
       " 'Los Angeles Rams find support in iconic doughnut shop ahead of Super Bowl LIII',\n",
       " 'Louis Vuitton designed a luxury Jenga set priced at $2,400',\n",
       " 'Man drunkenly swallows prickly catfish after being inspired by TV show Jackass, case report says',\n",
       " 'Man finds ‘authentic WWII hand grenade’ while magnet fishing in Florida: police',\n",
       " 'Manitoba mayor apologizes for vulgar statement involving Justin Trudeau and a pipeline pig',\n",
       " 'Marie Kondos Netflix show inspires viewers to tidy up: 3 popular organizing tips',\n",
       " 'Marie Osmond on the life-or-death choice her kids put to her',\n",
       " 'Matt Damon borrowed a suit for Davos speech after Swiss Air reportedly lost his luggage',\n",
       " 'Maxine Brown Russell of country trio The Browns dead at 87',\n",
       " 'Mechanic saves womans life using CPR technique he learned from The Office, report says',\n",
       " 'Michael B Jordan is latest celeb to wear awards show harness on red carpet',\n",
       " 'Mike Bloomberg, mulling 2020 bid, visits New Hampshire and says Trump is ‘failing at governing’',\n",
       " 'Mike Huckabee: New Yorks horrific new abortion law and Roe v Wade are both built on the same lie',\n",
       " 'Million-dollar car collection hidden for years uncovered in poor artists barn',\n",
       " 'Minnesota wildlife officials shoot mule deer exhibiting ‘strange behavior’',\n",
       " 'Misstep cost\\xa0pro golfer $100G, penalty deemed ‘grossly unfair’',\n",
       " 'Model hid Trump support out of fear it would kill her career: ‘I couldn’t tell anyone’',\n",
       " 'Mom beats cat in front of children then snapped its neck, cops say',\n",
       " 'Morgan Ortagus praises Trump administrations strategy on Maduro',\n",
       " 'Most expensive home in US – dubbed ‘billionaires’ bunker’ – purchased for $238 million',\n",
       " 'NASCAR bans drivers, staff from gambling on sport',\n",
       " 'Need a mood boost? Just 5 minutes in nature will increase happiness, study finds',\n",
       " 'New York lawmaker to Google: Remove conversion therapy app from Play Store',\n",
       " 'New Yorks horrific new abortion law and Roe v Wade are both built on the same lie',\n",
       " 'Nicole Kidman, Keith Urban pack on the PDA at Australian Open',\n",
       " 'No one elected Facebooks Mark Zuckerberg to referee free speech – His companys too big Here’s how to fix it',\n",
       " 'Now that PG&E has filed for bankruptcy, what happens next?',\n",
       " 'Ocasio-Cortez slams Amazon for bias in its facial detection technology',\n",
       " 'Ocasio-Cortez slams Google, Facebook for role in climate change denial',\n",
       " 'Ocasio-Cortez, Warren tax plans catastrophic for US economy: Larry Kudlow',\n",
       " 'Patricia Heatons pilot for comedy ‘Carol’s Second Act’ lands at CBS',\n",
       " 'Peaches, plums, nectarines recalled for potential listeria contamination, FDA says',\n",
       " 'Pet hedgehogs associated with salmonella outbreak, ‘don’t kiss or snuggle’ them, CDC warns',\n",
       " 'Pete Davidson jokes about rehab, quitting Instagram while drinking beer',\n",
       " 'Phony shutdown showdown shows what really runs Washington',\n",
       " 'Pop-Tarts announces possible presidential run in 2020 in now-viral Twitter post',\n",
       " 'Porn, money drove obsessed man to kill his family: police',\n",
       " 'Puppys paws pointed up instead of down, but surgery fixed that, doctor says',\n",
       " 'Rams coach Sean McVay, 33, to make history as youngest Super Bowl coach',\n",
       " 'Rep Green: Kamala Harris plan to pay for Medicare for all doesnt add up',\n",
       " 'Rep Waltz warns against a hasty US withdrawal from Afghanistan',\n",
       " 'Rep Waltz warns against a hasty US withdrawal from Afghanistan: I dont trust the Taliban',\n",
       " 'Roger Stone pleads not guilty to 7 counts',\n",
       " 'SEE THE TICKET: Woman cited for going unbelievably fast on snowy road',\n",
       " 'Schultz slams ideas from Democrats Harris, Warren, Ocasio-Cortez',\n",
       " 'Schultz would guarantee Trump re-election in 2020: Chris Christie',\n",
       " 'Schultz, Sanders and Ocasio-Cortez: What these three people tell us about politics in 2019 (and beyond)',\n",
       " 'SeaWorld deeply saddened, PETA outraged by death of Kayla the orca',\n",
       " 'Shania Twain admits to still getting starstruck, being awkward with Madonna',\n",
       " 'South Carolina fisherman hooks massive great white shark: Its like hooking an elephant',\n",
       " 'Spanish police bust drug smuggling ring that was using drones to spy on authorities',\n",
       " 'Special Report w/ Bret Baier - Monday, January 28',\n",
       " 'Spy chief says Russia will attempt to interfere in 2020, contradicts Trump on North Koreas denuclearization, ISIS defeat',\n",
       " 'St Louis cop accused in alleged Russian roulette shooting booked into jail',\n",
       " 'St Paul slapper suspect behind bars after bizarre string of attacks',\n",
       " 'Stacey Abrams chosen to give Democratic response to Trumps State of the Union',\n",
       " 'Stephen King farts in his Tesla',\n",
       " 'Strangers who attended Air Force veteran’s funeral ‘came together as Americans,’ says organizer',\n",
       " 'Taxes and your wallet: What the average American pays',\n",
       " 'Ten children kidnapped, killed for body parts: authorities',\n",
       " 'Tennis champ Andy Murray confirms hip operation, metal joint implant',\n",
       " 'Texas cemetery calls on public to attend Air Force veteran’s funeral',\n",
       " 'Texas police officer clings to window as suspect drives off, evades authorities',\n",
       " 'The Democrats bidding war — to tax and spend your money',\n",
       " 'The Ingraham Angle – Monday, January 28',\n",
       " 'The Story w/ Martha MacCallum - Monday, January 28',\n",
       " 'The most powerful thing you can do for your kids',\n",
       " 'Thief climbs through womans car window, makes off with $1',\n",
       " 'Thousands answer call to attend unaccompanied Air Force vets Texas funeral',\n",
       " 'Thousands of strangers attend funeral for Air Force veteran slated to be buried without family',\n",
       " 'Trapped in a bathroom with a toddler (a parenting moment Ill never forget!)',\n",
       " 'Tucker Carlson Tonight – Monday, January 28',\n",
       " 'Tunnel to Towers raises funds to pay off the mortgage of US Navy Chief Cryptologic Technician Shannon Kent',\n",
       " 'Two elderly women killed in stampede for free food coupons',\n",
       " 'Underwater search to begin for missing soccer player Emiliano Sala, plane',\n",
       " 'Venezuela chief prosecutor tries to block opposition leader Juan Guaido from leaving country',\n",
       " 'Videoblogging sisters call out Ocasio-Cortez for ignorance, socialism obsession',\n",
       " 'WATCH: Track the polar vortex as it continues to smash the Midwest',\n",
       " 'WATCH: UK Parliament debates May’s Brexit ‘plan B’',\n",
       " 'What Schultz, Sanders and Ocasio-Cortez tell us about politics in 2019 (and beyond)',\n",
       " 'When taking Social Security at 62 could be wise',\n",
       " 'Woman dubbed Germany’s hottest cop breaks up with longtime boyfriend',\n",
       " 'Woman in Connecticut drove drunk on vanilla extract, police say',\n",
       " 'Womans pancreas torn in half in freak snowboarding accident',\n",
       " 'You probably shouldnt buy $80 used tissues',\n",
       " '‘Family friendly’ Kraft Heinz aired ‘uncensored’ Super Bowl commercial on Pornhub',\n",
       " '‘She’s All That’ actress Rachael Leigh Cook recalls starring in the 90s teen classic'}"
      ]
     },
     "execution_count": 3,
     "metadata": {},
     "output_type": "execute_result"
    }
   ],
   "source": [
    "list = []\n",
    "for headline in soup.find_all(\"h2\", class_=\"title\"):\n",
    "    list.append(headline.text.replace(\".\",\"\").replace(\"\\'\", \"\").replace('\\n',''))\n",
    "print(\"Fox News Headlines:\")\n",
    "set(list)"
   ]
  },
  {
   "cell_type": "markdown",
   "metadata": {},
   "source": [
    "<h3>Headlines from CBC</h3>"
   ]
  },
  {
   "cell_type": "code",
   "execution_count": 4,
   "metadata": {},
   "outputs": [],
   "source": [
    "import urllib.request\n",
    "response = urllib.request.urlopen('https://www.cbc.ca/')\n",
    "html = response.read()"
   ]
  },
  {
   "cell_type": "code",
   "execution_count": 5,
   "metadata": {},
   "outputs": [],
   "source": [
    "from bs4 import BeautifulSoup\n",
    "soup = BeautifulSoup(html, 'html.parser')"
   ]
  },
  {
   "cell_type": "code",
   "execution_count": 6,
   "metadata": {},
   "outputs": [
    {
     "name": "stdout",
     "output_type": "stream",
     "text": [
      "CBC News Headlines:\n"
     ]
    },
    {
     "data": {
      "text/plain": [
       "{'19 works of Canadian nonfiction to check out this spring',\n",
       " '23 recipes as fresh and healthy as Canadas new food guide',\n",
       " 'A major California utility company is blaming climate change for going bankrupt',\n",
       " 'A national electronic health record for all Canadians would save lives, but it probably wont happen',\n",
       " 'Benoit Huot retires after iconic Paralympic swim career',\n",
       " 'Blue Jays sign Freddy Galvis to 1-year deal for infield depth',\n",
       " 'British Parliament votes on Tory, Labour amendments on Brexit',\n",
       " 'Bruce McArthur pleads guilty to 8 counts of 1st-degree murder',\n",
       " 'Corey Hart reflects on Sunglasses at Night, the song that changed his life',\n",
       " 'Cranky Chinas posturing puts its neighbours on edge',\n",
       " 'Humboldt Broncos families describe pain & loss during crash sentencing hearing',\n",
       " 'I just retired... and Im 24: Concussions end an NHL dream',\n",
       " 'Is it appropriate to celebrate Bohemian Rhapsody after directors sex assault allegations?',\n",
       " 'Leafs improve defence, acquire Jake Muzzin from Kings',\n",
       " 'Let me die with my mother: Samsung to compensate sick workers, but many will never recover',\n",
       " 'Man uses CPR technique he learned from The Office to save womans life',\n",
       " 'My picky eaters have grown up & heres what it took to get them to eat',\n",
       " 'Ottawas shovelling sensei goes to new widths to clear snow',\n",
       " 'RBC regrets labelling error on customers loans and mortgages',\n",
       " 'Remains of explorer who circled Australia unearthed next to London train station',\n",
       " 'Revamped reunification process leaves families heartbroken ',\n",
       " 'Semi-trailer driver who caused Humboldt Broncos crash had 70 violations in 11 days',\n",
       " 'Shawn Mendes and the Weeknd lead the 2019 Juno nominations',\n",
       " 'She is a powerful force: Sarah McLachlan tapped to host 2019 Juno Awards',\n",
       " 'Shedding light on dark memory of Quebec mosque shooting',\n",
       " 'The U.K. could ban social media sites in the wake of teens death',\n",
       " 'UFC champion Nurmagomedov, McGregor suspended, fined for brawl',\n",
       " 'Your horoscope for the week: Prepare for a new beginning',\n",
       " 'Youre not alone: Women share powerful stories of infertility and pregnancy loss in this new book',\n",
       " 'Youve had it up to here with all this snow'}"
      ]
     },
     "execution_count": 6,
     "metadata": {},
     "output_type": "execute_result"
    }
   ],
   "source": [
    "list2 = []\n",
    "for headline in soup.find_all(\"h3\", class_=\"headline\"):\n",
    "    list2.append(headline.text.replace(\"\\'\", \"\"))\n",
    "print(\"CBC News Headlines:\")\n",
    "set(list2)"
   ]
  }
 ],
 "metadata": {
  "kernelspec": {
   "display_name": "Python 3",
   "language": "python",
   "name": "python3"
  },
  "language_info": {
   "codemirror_mode": {
    "name": "ipython",
    "version": 3
   },
   "file_extension": ".py",
   "mimetype": "text/x-python",
   "name": "python",
   "nbconvert_exporter": "python",
   "pygments_lexer": "ipython3",
   "version": "3.7.0"
  }
 },
 "nbformat": 4,
 "nbformat_minor": 2
}
