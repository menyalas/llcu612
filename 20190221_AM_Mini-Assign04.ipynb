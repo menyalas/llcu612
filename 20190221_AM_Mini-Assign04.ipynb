{
 "cells": [
  {
   "cell_type": "markdown",
   "metadata": {},
   "source": [
    "<h3>Conceptual Task</h3>\n",
    "<p>In Chapter 6 of <i>Hermeneutica</i>, the authors present an analysis of two speeches, one given by candidate-for-president Barack Obama and the other by his \"spiritual mentor\" Jeremiah A. White Jr.  After examining repeating terms and concordances in the two speeches, the authors turn to a discussion of race, concluding with a challenge to the reader to analyze for themselves the collocates for the terms \"black\" and \"white.\" A <a href=\"http://voyant-tools.org/?corpus=977fec48d06713cce6a23aba7d5cb649\">Voyant window</a> pre-loaded with the text of the speeches is ready and waiting for you. Use what you learned in <a href=\"https://ebookcentral.proquest.com/lib/mcgill/reader.action?docID=4503100&ppg=114\">Chapter 6</a> of Hermeneutica and in the <a href=\"http://sgsinclair.github.io/alta/collocate/\">Collocates section</a> on the Art of Literary Text Analysis to explore, interpret and discuss your findings (500 words max).\n",
    "<h3>Technical Task</h3>\n",
    "<p>Make a copy of the <a href=\"https://nbviewer.jupyter.org/github/sgsinclair/alta/blob/master/ipynb/GettingNltk.ipynb\">Getting NLTK</a> Jupyter notebook and save it locally, then adapt it to a text relevant to your own interests, being sure to rename \"variables\" (that is, objects like \"goldBugTokens\") as you go -- this will help ensure that you understand the code.  Feel free (but not obliged) to take liberties with the arguments you pass to the functions if that helps you better fit the code in the notebook to your data. Text files are available from <a href=\"https://www.gutenberg.org/\">Project Gutenberg</a>, but feel free to acquire texts from elsewhere. Consider the \"<a href=\"https://libraryguides.mcgill.ca/digital-scholarship/text\">Free and Open Collections</a>\" suggested by the McGill Library for data mining projects. As you work through the notebook, adapting the code to your chosen text, discuss any interesting findings, challenges and solutions using the comment and markup functions. Upload your modified notebook and data file to GitHub. ***Bonus: Use the <a href=\"http://www.nltk.org/genindex.html\">NLTK documentation</a> and other online resources to figure out how to find and display the 10 most frequently collocated 2-word phrases in your chosen text.***</p>  "
   ]
  },
  {
   "cell_type": "code",
   "execution_count": null,
   "metadata": {},
   "outputs": [],
   "source": []
  }
 ],
 "metadata": {
  "kernelspec": {
   "display_name": "Python 3",
   "language": "python",
   "name": "python3"
  },
  "language_info": {
   "codemirror_mode": {
    "name": "ipython",
    "version": 3
   },
   "file_extension": ".py",
   "mimetype": "text/x-python",
   "name": "python",
   "nbconvert_exporter": "python",
   "pygments_lexer": "ipython3",
   "version": "3.6.6"
  }
 },
 "nbformat": 4,
 "nbformat_minor": 2
}
