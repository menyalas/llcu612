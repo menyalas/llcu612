{
 "cells": [
  {
   "cell_type": "markdown",
   "metadata": {},
   "source": [
    "<center><h2>Assignment 3, Alayne Moody, LLCU 612</h2><center>"
   ]
  },
  {
   "cell_type": "markdown",
   "metadata": {},
   "source": [
    "<h3>Setting up the workspace</h3>"
   ]
  },
  {
   "cell_type": "code",
   "execution_count": 9,
   "metadata": {},
   "outputs": [],
   "source": [
    "import os\n",
    "import glob\n",
    "import re"
   ]
  },
  {
   "cell_type": "code",
   "execution_count": 2,
   "metadata": {},
   "outputs": [],
   "source": [
    "directory = \"data\"\n",
    "if not os.path.exists(directory):\n",
    "    os.makedirs(directory)"
   ]
  },
  {
   "cell_type": "code",
   "execution_count": 10,
   "metadata": {},
   "outputs": [
    {
     "data": {
      "text/plain": [
       "['data/1818 Northanger Abbey.txt',\n",
       " 'data/1815 Emma.txt',\n",
       " 'data/1811 Sense and Sensibility.txt',\n",
       " 'data/1805 Lady Susan.txt',\n",
       " 'data/1813 Pride and Prejudice.txt',\n",
       " 'data/1790 Love And Freindship.txt',\n",
       " 'data/1814 Mansfield Park.txt',\n",
       " 'data/1818 Persuasion.txt']"
      ]
     },
     "execution_count": 10,
     "metadata": {},
     "output_type": "execute_result"
    }
   ],
   "source": [
    "textFiles = glob.glob(\"data/*txt\")\n",
    "textFiles"
   ]
  },
  {
   "cell_type": "markdown",
   "metadata": {},
   "source": [
    "<h3>Trying to reproduce the counts from the Voyant part of the homework </h3>"
   ]
  },
  {
   "cell_type": "code",
   "execution_count": 11,
   "metadata": {},
   "outputs": [
    {
     "name": "stdout",
     "output_type": "stream",
     "text": [
      "Total mr: 5653\n",
      "Total mrs: 2533\n",
      "Total said: 2170\n",
      "Total miss: 2149\n",
      "Total think: 1781\n",
      "Total know: 1781\n",
      "Total love: 923\n",
      "Total like: 1367\n"
     ]
    }
   ],
   "source": [
    "#Set counters at zero for all terms\n",
    "totalMr = 0\n",
    "totalMrs = 0\n",
    "totalSaid = 0\n",
    "totalMiss = 0\n",
    "totalThink = 0\n",
    "totalKnow = 0\n",
    "totalLove = 0\n",
    "totalLike = 0\n",
    "for textFile in textFiles:\n",
    "    f = open(textFile, \"r\")\n",
    "    textString = f.read()\n",
    "    f.close()\n",
    "    mr = textString.lower().count(\"mr\")\n",
    "    mrs = textString.lower().count(\"mrs\")\n",
    "    said = textString.lower().count(\"said\")\n",
    "    miss = textString.lower().count(\"miss\")\n",
    "    think = textString.lower().count(\"think\")\n",
    "    know = textString.lower().count(\"think\")\n",
    "    love = textString.lower().count(\"love\")\n",
    "    like = textString.lower().count(\"like\")\n",
    "    totalMr += mr\n",
    "    totalMrs += mrs\n",
    "    totalSaid += said\n",
    "    totalMiss += miss\n",
    "    totalThink += think\n",
    "    totalKnow += know\n",
    "    totalLove += love\n",
    "    totalLike += like\n",
    "print(\"Total mr:\", totalMr)\n",
    "print(\"Total mrs:\", totalMrs)\n",
    "print(\"Total said:\", totalSaid)\n",
    "print(\"Total miss:\", totalMiss)\n",
    "print(\"Total think:\", totalThink)\n",
    "print(\"Total know:\", totalKnow)\n",
    "print(\"Total love:\", totalLove)\n",
    "print(\"Total like:\", totalLike)"
   ]
  },
  {
   "cell_type": "markdown",
   "metadata": {},
   "source": [
    "<p>That didn't work. The counts are too high. Adjusting below to match only whole words.</p>"
   ]
  },
  {
   "cell_type": "code",
   "execution_count": 12,
   "metadata": {},
   "outputs": [
    {
     "name": "stdout",
     "output_type": "stream",
     "text": [
      "Total mr: 3117\n",
      "Total mrs: 2531\n",
      "Total said: 2165\n",
      "Total miss: 1942\n",
      "Total think: 1514\n",
      "Total know: 1450\n",
      "Total love: 568\n",
      "Total like: 754\n"
     ]
    }
   ],
   "source": [
    "totalMr = 0\n",
    "totalMrs = 0\n",
    "totalSaid = 0\n",
    "totalMiss = 0\n",
    "totalThink = 0\n",
    "totalKnow = 0\n",
    "totalLove = 0\n",
    "totalLike = 0\n",
    "for textFile in textFiles:\n",
    "    f = open(textFile, \"r\")\n",
    "    textString = f.read().lower()\n",
    "    mr = len(re.findall(r'\\bmr\\b',textString))\n",
    "    mrs = len(re.findall(r'\\bmrs\\b',textString))\n",
    "    said = len(re.findall(r'\\bsaid\\b',textString))\n",
    "    miss = len(re.findall(r'\\bmiss\\b',textString))\n",
    "    think = len(re.findall(r'\\bthink\\b',textString))\n",
    "    know = len(re.findall(r'\\bknow\\b',textString))\n",
    "    love = len(re.findall(r'\\blove\\b',textString))\n",
    "    like = len(re.findall(r'\\blike\\b',textString))\n",
    "    totalMr += mr\n",
    "    totalMrs += mrs\n",
    "    totalSaid += said\n",
    "    totalMiss += miss\n",
    "    totalThink += think\n",
    "    totalKnow += know\n",
    "    totalLove += love\n",
    "    totalLike += like\n",
    "print(\"Total mr:\", totalMr)\n",
    "print(\"Total mrs:\", totalMrs)\n",
    "print(\"Total said:\", totalSaid)\n",
    "print(\"Total miss:\", totalMiss)\n",
    "print(\"Total think:\", totalThink)\n",
    "print(\"Total know:\", totalKnow)\n",
    "print(\"Total love:\", totalLove)\n",
    "print(\"Total like:\", totalLike)"
   ]
  },
  {
   "cell_type": "markdown",
   "metadata": {},
   "source": [
    "<p>That's better! The figures match the results from Volant.</p>"
   ]
  }
 ],
 "metadata": {
  "kernelspec": {
   "display_name": "Python 3",
   "language": "python",
   "name": "python3"
  },
  "language_info": {
   "codemirror_mode": {
    "name": "ipython",
    "version": 3
   },
   "file_extension": ".py",
   "mimetype": "text/x-python",
   "name": "python",
   "nbconvert_exporter": "python",
   "pygments_lexer": "ipython3",
   "version": "3.6.6"
  }
 },
 "nbformat": 4,
 "nbformat_minor": 2
}
