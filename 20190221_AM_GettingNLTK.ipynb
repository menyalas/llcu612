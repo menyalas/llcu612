{
 "cells": [
  {
   "cell_type": "code",
   "execution_count": 11,
   "metadata": {},
   "outputs": [],
   "source": [
    "import urllib.request\n",
    "url = \"https://www.gutenberg.org/files/242/242-0.txt\"\n",
    "string = urllib.request.urlopen(url).read().decode()"
   ]
  },
  {
   "cell_type": "code",
   "execution_count": 16,
   "metadata": {},
   "outputs": [],
   "source": [
    "import os\n",
    "start = string.find(\"INTRODUCTION\")\n",
    "end = string.find(\"End of the Project Gutenberg EBook\")\n",
    "stringStory = string[start:end]\n",
    "directory = \"llcu612/data\"\n",
    "if not os.path.exists(directory):\n",
    "    os.makedirs(directory)\n",
    "with open(\"data/cather01.txt\",\"w\") as f:\n",
    "    f.write(stringStory)"
   ]
  },
  {
   "cell_type": "code",
   "execution_count": 29,
   "metadata": {},
   "outputs": [],
   "source": [
    "with open(\"data/cather01.txt\", \"r\") as f:\n",
    "    stringStory = f.read()\n"
   ]
  },
  {
   "cell_type": "code",
   "execution_count": 44,
   "metadata": {},
   "outputs": [
    {
     "name": "stdout",
     "output_type": "stream",
     "text": [
      "INTRODUCTION\n",
      "\n",
      "LAST summer I happened to be crossing the plains of Iowa in a season\n",
      "of intense heat, and it was my good fortune to have for a traveling\n",
      "companion James Quayle Burden--Jim Burden, as we \n",
      "***\n",
      "etermined for us all that we can ever be. Now I understood\n",
      "that the same road was to bring us together again. Whatever we had\n",
      "missed, we possessed together the precious, the incommunicable past.\n",
      "\n",
      "\n",
      "\n",
      "\n",
      "\n",
      "\n"
     ]
    }
   ],
   "source": [
    "print(stringStory[0:200])\n",
    "print(\"***\")\n",
    "print(stringStory[-200:])"
   ]
  },
  {
   "cell_type": "code",
   "execution_count": 45,
   "metadata": {},
   "outputs": [],
   "source": [
    "import nltk"
   ]
  },
  {
   "cell_type": "code",
   "execution_count": 46,
   "metadata": {},
   "outputs": [
    {
     "data": {
      "text/plain": [
       "['INTRODUCTION',\n",
       " 'LAST',\n",
       " 'summer',\n",
       " 'I',\n",
       " 'happened',\n",
       " 'to',\n",
       " 'be',\n",
       " 'crossing',\n",
       " 'the',\n",
       " 'plains']"
      ]
     },
     "execution_count": 46,
     "metadata": {},
     "output_type": "execute_result"
    }
   ],
   "source": [
    "tokens = nltk.word_tokenize(stringStory)\n",
    "tokens[:10]"
   ]
  },
  {
   "cell_type": "code",
   "execution_count": 50,
   "metadata": {},
   "outputs": [
    {
     "name": "stdout",
     "output_type": "stream",
     "text": [
      "['INTRODUCTION', 'LAST', 'summer', 'I', 'happened', 'to', 'be', 'crossing', 'the', 'plains', 'of', 'Iowa', 'in', 'a', 'season', 'of', 'intense', 'heat', ',', 'and', 'it', 'was', 'my', 'good', 'fortune', 'to', 'have', 'for', 'a', 'traveling', 'companion', 'James', 'Quayle', 'Burden', '--', 'Jim', 'Burden', ',', 'as', 'we', 'still', 'call', 'him', 'in', 'the', 'West', '.', 'He', 'and', 'I', 'are', 'old', 'friends', '--', 'we', 'grew', 'up', 'together', 'in', 'the', 'same', 'Nebraska', 'town', '--', 'and', 'we', 'had', 'much', 'to', 'say', 'to', 'each', 'other', '.', 'While', 'the', 'train', 'flashed', 'through', 'never-ending', 'miles', 'of', 'ripe', 'wheat', ',', 'by', 'country', 'towns', 'and', 'bright-flowered', 'pastures', 'and', 'oak', 'groves', 'wilting', 'in', 'the', 'sun', ',', 'we'] (for loop technique)\n",
      "['INTRODUCTION', 'LAST', 'summer', 'I', 'happened', 'to', 'be', 'crossing', 'the', 'plains', 'of', 'Iowa', 'in', 'a', 'season', 'of', 'intense', 'heat', ',', 'and', 'it', 'was', 'my', 'good', 'fortune', 'to', 'have', 'for', 'a', 'traveling', 'companion', 'James', 'Quayle', 'Burden', '--', 'Jim', 'Burden', ',', 'as', 'we', 'still', 'call', 'him', 'in', 'the', 'West', '.', 'He', 'and', 'I', 'are', 'old', 'friends', '--', 'we', 'grew', 'up', 'together', 'in', 'the', 'same', 'Nebraska', 'town', '--', 'and', 'we', 'had', 'much', 'to', 'say', 'to', 'each', 'other', '.', 'While', 'the', 'train', 'flashed', 'through', 'never-ending', 'miles', 'of', 'ripe', 'wheat', ',', 'by', 'country', 'towns', 'and', 'bright-flowered', 'pastures', 'and', 'oak', 'groves', 'wilting', 'in', 'the', 'sun', ',', 'we'] (list comprehension technique)\n"
     ]
    }
   ],
   "source": [
    "loopList = []\n",
    "for word in tokens[:100]:\n",
    "    loopList.append(word)\n",
    "print(loopList,\"(for loop technique)\")\n",
    "print([word for word in tokens[:100]], \"(list comprehension technique)\")"
   ]
  },
  {
   "cell_type": "code",
   "execution_count": 51,
   "metadata": {},
   "outputs": [
    {
     "name": "stdout",
     "output_type": "stream",
     "text": [
      "['INTRODUCTION', 'LAST', 'summer', 'I', 'happened', 'to', 'be', 'crossing', 'the', 'plains', 'of', 'Iowa', 'in', 'a', 'season', 'of', 'intense', 'heat', 'and', 'it', 'was', 'my', 'good', 'fortune', 'to', 'have', 'for', 'a', 'traveling', 'companion', 'James', 'Quayle', 'Burden', 'Jim', 'Burden', 'as', 'we', 'still', 'call', 'him', 'in', 'the', 'West', 'He', 'and', 'I', 'are', 'old', 'friends', 'we', 'grew', 'up', 'together', 'in', 'the', 'same', 'Nebraska', 'town', 'and', 'we', 'had', 'much', 'to', 'say', 'to', 'each', 'other', 'While', 'the', 'train', 'flashed', 'through', 'never-ending', 'miles', 'of', 'ripe', 'wheat', 'by', 'country', 'towns', 'and', 'bright-flowered', 'pastures', 'and', 'oak', 'groves', 'wilting', 'in', 'the', 'sun', 'we']\n"
     ]
    }
   ],
   "source": [
    "print([word for word in tokens[:100] if word[0].isalpha()])"
   ]
  },
  {
   "cell_type": "code",
   "execution_count": null,
   "metadata": {},
   "outputs": [],
   "source": []
  }
 ],
 "metadata": {
  "kernelspec": {
   "display_name": "Python 3",
   "language": "python",
   "name": "python3"
  },
  "language_info": {
   "codemirror_mode": {
    "name": "ipython",
    "version": 3
   },
   "file_extension": ".py",
   "mimetype": "text/x-python",
   "name": "python",
   "nbconvert_exporter": "python",
   "pygments_lexer": "ipython3",
   "version": "3.6.6"
  }
 },
 "nbformat": 4,
 "nbformat_minor": 2
}
