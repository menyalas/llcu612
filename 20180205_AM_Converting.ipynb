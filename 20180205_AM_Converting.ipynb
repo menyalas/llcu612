{
 "cells": [
  {
   "cell_type": "code",
   "execution_count": 4,
   "metadata": {},
   "outputs": [],
   "source": [
    "import urllib.request"
   ]
  },
  {
   "cell_type": "code",
   "execution_count": 6,
   "metadata": {},
   "outputs": [],
   "source": [
    "def fetch(url):\n",
    "    response = urllib.request.urlopen(url)\n",
    "    return response.read()"
   ]
  },
  {
   "cell_type": "code",
   "execution_count": 9,
   "metadata": {},
   "outputs": [
    {
     "data": {
      "text/plain": [
       "b'<html>\\r\\n<head><title>Godfather Script at IMSDb.</title>\\r\\n<meta name=\"description'"
      ]
     },
     "execution_count": 9,
     "metadata": {},
     "output_type": "execute_result"
    }
   ],
   "source": [
    "godfatherUrl = \"https://www.imsdb.com/scripts/Godfather.html\"\n",
    "godfatherSource = fetch(godfatherUrl)\n",
    "godfatherSource[0:80]"
   ]
  },
  {
   "cell_type": "code",
   "execution_count": 10,
   "metadata": {},
   "outputs": [],
   "source": [
    "from bs4 import BeautifulSoup"
   ]
  },
  {
   "cell_type": "code",
   "execution_count": 11,
   "metadata": {},
   "outputs": [],
   "source": [
    "def extract(source):\n",
    "    soup = BeautifulSoup(source)\n",
    "    return soup.find(\"pre\").find(\"pre\").text.strip()"
   ]
  },
  {
   "cell_type": "code",
   "execution_count": 12,
   "metadata": {},
   "outputs": [
    {
     "data": {
      "text/plain": [
       "'THE GODFATHER\\n\\t_____________\\n\\n\\tScreenplay\\n\\n\\tby\\n\\n\\tMARIO PUZO\\n\\n\\tand\\n\\n\\tFRANCIS FORD'"
      ]
     },
     "execution_count": 12,
     "metadata": {},
     "output_type": "execute_result"
    }
   ],
   "source": [
    "godfatherText = extract(godfatherSource)\n",
    "godfatherText[0:80]"
   ]
  },
  {
   "cell_type": "code",
   "execution_count": 13,
   "metadata": {},
   "outputs": [],
   "source": [
    "import re\n",
    "\n",
    "directions = r'^\\t?[^\\t]'"
   ]
  },
  {
   "cell_type": "code",
   "execution_count": 14,
   "metadata": {},
   "outputs": [],
   "source": [
    "def clean(text):\n",
    "    lines = re.sub(r'\\n\\n+',\"\\n\\n\", text).split(\"\\n\")\n",
    "    return [l for l in lines if not re.match(directions, l)]"
   ]
  },
  {
   "cell_type": "code",
   "execution_count": 15,
   "metadata": {},
   "outputs": [
    {
     "data": {
      "text/plain": [
       "['',\n",
       " '',\n",
       " '',\n",
       " '',\n",
       " '',\n",
       " '',\n",
       " '\\t\\t\\t\\t\\t1 Gulf and Western Plaza',\n",
       " '',\n",
       " '',\n",
       " '',\n",
       " '\\t\\t\\t\\t  THE GODFATHER',\n",
       " '',\n",
       " '',\n",
       " '\\t\\t\\t\\tBONASERA',\n",
       " '\\t\\tAmerica has made my fortune.',\n",
       " '',\n",
       " '',\n",
       " '\\t\\t\\t\\tBONASERA',\n",
       " '\\t\\tI raised my daughter in the American',\n",
       " '\\t\\tfashion; I gave her freedom, but']"
      ]
     },
     "execution_count": 15,
     "metadata": {},
     "output_type": "execute_result"
    }
   ],
   "source": [
    "godfather = clean(godfatherText)\n",
    "godfather[0:20]"
   ]
  },
  {
   "cell_type": "code",
   "execution_count": 16,
   "metadata": {},
   "outputs": [
    {
     "data": {
      "text/plain": [
       "['',\n",
       " '\\t\\t\\t\\t Part Two',\n",
       " '',\n",
       " '\\t\\t\\t\\tScreenplay by',\n",
       " '',\n",
       " '\\t\\t\\t\\tMario Puzo',\n",
       " '',\n",
       " '\\t\\t\\t\\t    and',\n",
       " '',\n",
       " '\\t\\t\\t Francis Ford Coppola',\n",
       " '',\n",
       " '',\n",
       " '',\n",
       " '',\n",
       " '',\n",
       " \"\\t\\t     Mario Puzo's THE GODFATHER\",\n",
       " '',\n",
       " '',\n",
       " '',\n",
       " '',\n",
       " '',\n",
       " '\\t\\t\\t\\t\\t\\t\\t\\tDISSOLVE TO:',\n",
       " '',\n",
       " '',\n",
       " '',\n",
       " '',\n",
       " '',\n",
       " '',\n",
       " '',\n",
       " '',\n",
       " '\\t\\t\\t\\tWOMAN',\n",
       " '\\t\\t\\t(Sicilian)',\n",
       " \"\\t\\tThey've killed young Paolo!  They've\",\n",
       " '\\t\\tkilled the boy Paolo!',\n",
       " '',\n",
       " '',\n",
       " '',\n",
       " '',\n",
       " '',\n",
       " '']"
      ]
     },
     "execution_count": 16,
     "metadata": {},
     "output_type": "execute_result"
    }
   ],
   "source": [
    "godfather2url = \"https://www.imsdb.com/scripts/Godfather-Part-II.html\"\n",
    "godfather2 = clean(extract(fetch(godfather2url)))\n",
    "godfather2[0:40]"
   ]
  }
 ],
 "metadata": {
  "kernelspec": {
   "display_name": "Python 3",
   "language": "python",
   "name": "python3"
  },
  "language_info": {
   "codemirror_mode": {
    "name": "ipython",
    "version": 3
   },
   "file_extension": ".py",
   "mimetype": "text/x-python",
   "name": "python",
   "nbconvert_exporter": "python",
   "pygments_lexer": "ipython3",
   "version": "3.6.6"
  }
 },
 "nbformat": 4,
 "nbformat_minor": 2
}
