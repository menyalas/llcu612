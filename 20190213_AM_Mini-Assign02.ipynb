{
 "cells": [
  {
   "cell_type": "markdown",
   "metadata": {},
   "source": [
    "<center><h2>Assignment 2, Alayne Moody, LLCU 612</h2><center>"
   ]
  },
  {
   "cell_type": "markdown",
   "metadata": {},
   "source": [
    "<h3>Setting up the workspace</h3>"
   ]
  },
  {
   "cell_type": "code",
   "execution_count": 3,
   "metadata": {},
   "outputs": [],
   "source": [
    "import urllib.request\n",
    "import re"
   ]
  },
  {
   "cell_type": "code",
   "execution_count": 4,
   "metadata": {},
   "outputs": [
    {
     "name": "stdout",
     "output_type": "stream",
     "text": [
      "﻿This Etext file is presented by Project Gutenberg, in\r\n",
      "cooperation with World L\n",
      "***\n",
      "his Etext of The Complete Works of William Shakespeare\r\n",
      "The Tragedy of Macbeth\r\n",
      "\n"
     ]
    }
   ],
   "source": [
    "response = urllib.request.urlopen('http://www.gutenberg.org/cache/epub/1129/pg1129.txt')\n",
    "txt = response.read().decode()\n",
    "print(txt[0:80])\n",
    "print(\"***\")\n",
    "print(txt[-80:])"
   ]
  },
  {
   "cell_type": "markdown",
   "metadata": {},
   "source": [
    "<h3>Isolate the play from the front and end matter.</h3>"
   ]
  },
  {
   "cell_type": "code",
   "execution_count": 5,
   "metadata": {},
   "outputs": [
    {
     "name": "stdout",
     "output_type": "stream",
     "text": [
      "SCENE: Scotland and England\r\n",
      "\r\n",
      "\r\n",
      "ACT I. SCENE I.\r\n",
      "A desert place. Thunder and lightning.\r\n",
      "\r\n",
      "Enter three Witches.\r\n",
      "\r\n",
      "  FIRST WITCH. When shall we three meet again?\r\n",
      "    In thunder, lightning, or in rain?\r\n",
      "  SECOND WITCH. When the hurlyburly's done,\r\n",
      "    When the battle's lost and won.\r\n",
      "  THIRD WITCH. That will be ere the set of sun.\r\n",
      "  FIRST WITCH. Where the place?\r\n",
      "  SECOND WITCH. Upon the heath.\r\n",
      "***\n",
      " fiend-like queen,\r\n",
      "    Who, as 'tis thought, by self and violent hands\r\n",
      "    Took off her life; this, and what needful else\r\n",
      "    That calls upon us, by the grace of Grace\r\n",
      "    We will perform in measure, time, and place.\r\n",
      "    So thanks to all at once and to each one,\r\n",
      "    Whom we invite to see us crown'd at Scone.\r\n",
      "                                               Flourish. Exeunt.\r\n",
      "                 \n"
     ]
    }
   ],
   "source": [
    "begin = txt.find(\"SCENE:\")\n",
    "end = txt.find(\"-THE END-\")\n",
    "core = txt[begin:end]\n",
    "print(core[0:400])\n",
    "print(\"***\") #This just creates a divider between the beginning and end snapshop of the remaining text. \n",
    "print(core[-400:])"
   ]
  },
  {
   "cell_type": "markdown",
   "metadata": {},
   "source": [
    "<h3>Isolate the speeches</h3>"
   ]
  },
  {
   "cell_type": "code",
   "execution_count": 7,
   "metadata": {},
   "outputs": [
    {
     "name": "stdout",
     "output_type": "stream",
     "text": [
      "\r\n",
      "\r\n",
      "\r\n",
      "\r\n",
      "  FIRST WITCH. When shall we three meet again?\r\n",
      "    In thunder, lightning, or in rain?\r\n",
      "  SECOND WITCH. When the hurlyburly's done,\r\n",
      "    When the battle's lost and won.\r\n",
      "  THIRD WITCH. That will be ere the set of sun.\r\n",
      "  FIRST WITCH. Where the place?\r\n",
      "  SECOND WITCH. Upon the heath.\r\n",
      "  THIRD WITCH. There to meet with Macbeth.\r\n",
      "  FIRST WITCH. I come, Graymalkin.\r\n",
      "  ALL. Paddock calls. Anon!\n",
      "***\n",
      "ducing forth the cruel ministers\r\n",
      "    Of this dead butcher and his fiend-like queen,\r\n",
      "    Who, as 'tis thought, by self and violent hands\r\n",
      "    Took off her life; this, and what needful else\r\n",
      "    That calls upon us, by the grace of Grace\r\n",
      "    We will perform in measure, time, and place.\r\n",
      "    So thanks to all at once and to each one,\r\n",
      "    Whom we invite to see us crown'd at Scone.\r\n",
      "                 \n"
     ]
    }
   ],
   "source": [
    "justSpeeches = re.sub(r'^(\\S+[A-Z]*.*)?( {8,}.+)?(\\n)',\"\",core,0,re.M)\n",
    "print(justSpeeches[:400])\n",
    "print(\"***\")\n",
    "print(justSpeeches[-400:])"
   ]
  },
  {
   "cell_type": "markdown",
   "metadata": {},
   "source": [
    "The above is not a perfect solution. In a very limited number of cases, the first or last word of a speech occured alone on a line with no preceding whitespace, as was the generally convention for the speech content. I tried countless ways to omit these individual words from the regular expression that matched the non-speech text but I was not successful. "
   ]
  },
  {
   "cell_type": "markdown",
   "metadata": {},
   "source": [
    "<h3>Remove the speaker names</h3>"
   ]
  },
  {
   "cell_type": "code",
   "execution_count": 9,
   "metadata": {},
   "outputs": [
    {
     "name": "stdout",
     "output_type": "stream",
     "text": [
      "\r\n",
      "\r\n",
      "\r\n",
      "\r\n",
      "When shall we three meet again?\r\n",
      "    In thunder, lightning, or in rain?\r\n",
      "When the hurlyburly's done,\r\n",
      "    When the battle's lost and won.\r\n",
      "That will be ere the set of sun.\r\n",
      "Where the place?\r\n",
      "Upon the heath.\r\n",
      "There to meet with Macbeth.\r\n",
      "I come, Graymalkin.\r\n",
      "Paddock calls. Anon!\r\n",
      "    Fair is foul, and foul is fair.\r\n",
      "    Hover through the fog and filthy air.                Exeunt.\r\n",
      "\r\n",
      "\r\n",
      "\r\n",
      "\r\n",
      "\r\n",
      "***\n",
      "ducing forth the cruel ministers\r\n",
      "    Of this dead butcher and his fiend-like queen,\r\n",
      "    Who, as 'tis thought, by self and violent hands\r\n",
      "    Took off her life; this, and what needful else\r\n",
      "    That calls upon us, by the grace of Grace\r\n",
      "    We will perform in measure, time, and place.\r\n",
      "    So thanks to all at once and to each one,\r\n",
      "    Whom we invite to see us crown'd at Scone.\r\n",
      "                 \n"
     ]
    }
   ],
   "source": [
    "noNames = re.sub(r'^ {2}\\w+( \\w+)?(\\. )?',\"\",justSpeeches,0,re.M)\n",
    "print(noNames[:400])\n",
    "print(\"***\")\n",
    "print(noNames[-400:])"
   ]
  },
  {
   "cell_type": "markdown",
   "metadata": {},
   "source": [
    "<h3>Tidy things up (that is, nix the whitespace)</h3>"
   ]
  },
  {
   "cell_type": "code",
   "execution_count": 90,
   "metadata": {},
   "outputs": [
    {
     "name": "stdout",
     "output_type": "stream",
     "text": [
      "When shall we three meet again?\r\n",
      "In thunder, lightning, or in rain?\r\n",
      "When the hurlyburly's done,\r\n",
      "When the battle's lost and won.\r\n",
      "That will be ere the set of sun.\r\n",
      "Where the place?\r\n",
      "Upon the heath.\r\n",
      "There to meet with Macbeth.\r\n",
      "I come, Graymalkin.\r\n",
      "Paddock calls. Anon!\r\n",
      "Fair is foul, and foul is fair.\r\n",
      "Hover through the fog and filthy air.                Exeunt.\r\n",
      "What bloody man is that? He can r\n",
      "***\n",
      "hat fled the snares of watchful tyranny,\r\n",
      "Producing forth the cruel ministers\r\n",
      "Of this dead butcher and his fiend-like queen,\r\n",
      "Who, as 'tis thought, by self and violent hands\r\n",
      "Took off her life; this, and what needful else\r\n",
      "That calls upon us, by the grace of Grace\r\n",
      "We will perform in measure, time, and place.\r\n",
      "So thanks to all at once and to each one,\r\n",
      "Whom we invite to see us crown'd at Scone.\r\n",
      "\n"
     ]
    }
   ],
   "source": [
    "noWhitespace = re.sub(r'^(\\r\\n)?(^ +)?',\"\",noNames,0,re.M)\n",
    "print(noWhitespace[:400])\n",
    "print(\"***\")\n",
    "print(noWhitespace[-400:])"
   ]
  }
 ],
 "metadata": {
  "kernelspec": {
   "display_name": "Python 3",
   "language": "python",
   "name": "python3"
  },
  "language_info": {
   "codemirror_mode": {
    "name": "ipython",
    "version": 3
   },
   "file_extension": ".py",
   "mimetype": "text/x-python",
   "name": "python",
   "nbconvert_exporter": "python",
   "pygments_lexer": "ipython3",
   "version": "3.6.6"
  }
 },
 "nbformat": 4,
 "nbformat_minor": 2
}
